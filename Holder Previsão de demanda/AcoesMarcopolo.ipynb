{
 "cells": [
  {
   "cell_type": "code",
   "execution_count": 92,
   "id": "2d61a503-cfc7-4845-b9f0-4865f32e0130",
   "metadata": {},
   "outputs": [],
   "source": [
    "import pandas as pd\n",
    "import numpy as np\n",
    "import seaborn as sns\n",
    "import matplotlib.pyplot as plt\n",
    "import plotly.express as px\n",
    "import plotly"
   ]
  },
  {
   "cell_type": "code",
   "execution_count": 68,
   "id": "847ed1cc-8a3b-4c7c-b8ca-8a431ffc1401",
   "metadata": {},
   "outputs": [
    {
     "data": {
      "text/html": [
       "<div>\n",
       "<style scoped>\n",
       "    .dataframe tbody tr th:only-of-type {\n",
       "        vertical-align: middle;\n",
       "    }\n",
       "\n",
       "    .dataframe tbody tr th {\n",
       "        vertical-align: top;\n",
       "    }\n",
       "\n",
       "    .dataframe thead th {\n",
       "        text-align: right;\n",
       "    }\n",
       "</style>\n",
       "<table border=\"1\" class=\"dataframe\">\n",
       "  <thead>\n",
       "    <tr style=\"text-align: right;\">\n",
       "      <th></th>\n",
       "      <th>DATA</th>\n",
       "      <th>ABERTURA</th>\n",
       "      <th>FECHAMENTO</th>\n",
       "      <th>VARIAÇÃO</th>\n",
       "      <th>MÍNIMO</th>\n",
       "      <th>MÁXIMO</th>\n",
       "      <th>VOLUME</th>\n",
       "    </tr>\n",
       "  </thead>\n",
       "  <tbody>\n",
       "    <tr>\n",
       "      <th>0</th>\n",
       "      <td>30/12/2021</td>\n",
       "      <td>2,96</td>\n",
       "      <td>3,05</td>\n",
       "      <td>3,04</td>\n",
       "      <td>2,92</td>\n",
       "      <td>3,05</td>\n",
       "      <td>16,23M</td>\n",
       "    </tr>\n",
       "    <tr>\n",
       "      <th>1</th>\n",
       "      <td>29/12/2021</td>\n",
       "      <td>2,91</td>\n",
       "      <td>2,96</td>\n",
       "      <td>1,72</td>\n",
       "      <td>2,88</td>\n",
       "      <td>2,99</td>\n",
       "      <td>12,15M</td>\n",
       "    </tr>\n",
       "    <tr>\n",
       "      <th>2</th>\n",
       "      <td>28/12/2021</td>\n",
       "      <td>2,89</td>\n",
       "      <td>2,91</td>\n",
       "      <td>1,03</td>\n",
       "      <td>2,85</td>\n",
       "      <td>2,93</td>\n",
       "      <td>8,11M</td>\n",
       "    </tr>\n",
       "    <tr>\n",
       "      <th>3</th>\n",
       "      <td>27/12/2021</td>\n",
       "      <td>2,80</td>\n",
       "      <td>2,88</td>\n",
       "      <td>3,18</td>\n",
       "      <td>2,78</td>\n",
       "      <td>2,88</td>\n",
       "      <td>8,05M</td>\n",
       "    </tr>\n",
       "    <tr>\n",
       "      <th>4</th>\n",
       "      <td>23/12/2021</td>\n",
       "      <td>2,80</td>\n",
       "      <td>2,79</td>\n",
       "      <td>-0,70</td>\n",
       "      <td>2,73</td>\n",
       "      <td>2,82</td>\n",
       "      <td>15,11M</td>\n",
       "    </tr>\n",
       "    <tr>\n",
       "      <th>...</th>\n",
       "      <td>...</td>\n",
       "      <td>...</td>\n",
       "      <td>...</td>\n",
       "      <td>...</td>\n",
       "      <td>...</td>\n",
       "      <td>...</td>\n",
       "      <td>...</td>\n",
       "    </tr>\n",
       "    <tr>\n",
       "      <th>491</th>\n",
       "      <td>08/01/2020</td>\n",
       "      <td>4,24</td>\n",
       "      <td>4,13</td>\n",
       "      <td>-2,67</td>\n",
       "      <td>4,11</td>\n",
       "      <td>4,27</td>\n",
       "      <td>35,31M</td>\n",
       "    </tr>\n",
       "    <tr>\n",
       "      <th>492</th>\n",
       "      <td>07/01/2020</td>\n",
       "      <td>4,22</td>\n",
       "      <td>4,24</td>\n",
       "      <td>1,35</td>\n",
       "      <td>4,18</td>\n",
       "      <td>4,28</td>\n",
       "      <td>34,96M</td>\n",
       "    </tr>\n",
       "    <tr>\n",
       "      <th>493</th>\n",
       "      <td>06/01/2020</td>\n",
       "      <td>4,22</td>\n",
       "      <td>4,18</td>\n",
       "      <td>-1,33</td>\n",
       "      <td>4,16</td>\n",
       "      <td>4,33</td>\n",
       "      <td>57,04M</td>\n",
       "    </tr>\n",
       "    <tr>\n",
       "      <th>494</th>\n",
       "      <td>03/01/2020</td>\n",
       "      <td>4,19</td>\n",
       "      <td>4,24</td>\n",
       "      <td>-0,66</td>\n",
       "      <td>4,18</td>\n",
       "      <td>4,27</td>\n",
       "      <td>41,13M</td>\n",
       "    </tr>\n",
       "    <tr>\n",
       "      <th>495</th>\n",
       "      <td>02/01/2020</td>\n",
       "      <td>4,26</td>\n",
       "      <td>4,27</td>\n",
       "      <td>0,67</td>\n",
       "      <td>4,17</td>\n",
       "      <td>4,35</td>\n",
       "      <td>54,56M</td>\n",
       "    </tr>\n",
       "  </tbody>\n",
       "</table>\n",
       "<p>496 rows × 7 columns</p>\n",
       "</div>"
      ],
      "text/plain": [
       "           DATA ABERTURA FECHAMENTO VARIAÇÃO MÍNIMO MÁXIMO  VOLUME\n",
       "0    30/12/2021     2,96       3,05     3,04   2,92   3,05  16,23M\n",
       "1    29/12/2021     2,91       2,96     1,72   2,88   2,99  12,15M\n",
       "2    28/12/2021     2,89       2,91     1,03   2,85   2,93   8,11M\n",
       "3    27/12/2021     2,80       2,88     3,18   2,78   2,88   8,05M\n",
       "4    23/12/2021     2,80       2,79    -0,70   2,73   2,82  15,11M\n",
       "..          ...      ...        ...      ...    ...    ...     ...\n",
       "491  08/01/2020     4,24       4,13    -2,67   4,11   4,27  35,31M\n",
       "492  07/01/2020     4,22       4,24     1,35   4,18   4,28  34,96M\n",
       "493  06/01/2020     4,22       4,18    -1,33   4,16   4,33  57,04M\n",
       "494  03/01/2020     4,19       4,24    -0,66   4,18   4,27  41,13M\n",
       "495  02/01/2020     4,26       4,27     0,67   4,17   4,35  54,56M\n",
       "\n",
       "[496 rows x 7 columns]"
      ]
     },
     "execution_count": 68,
     "metadata": {},
     "output_type": "execute_result"
    }
   ],
   "source": [
    "marcopolo = pd.read_csv('MP.csv')\n",
    "marcopolo\n"
   ]
  },
  {
   "cell_type": "code",
   "execution_count": 69,
   "id": "783f6a88-8dc4-4399-82f7-1486ad5099a5",
   "metadata": {},
   "outputs": [
    {
     "data": {
      "text/html": [
       "<div>\n",
       "<style scoped>\n",
       "    .dataframe tbody tr th:only-of-type {\n",
       "        vertical-align: middle;\n",
       "    }\n",
       "\n",
       "    .dataframe tbody tr th {\n",
       "        vertical-align: top;\n",
       "    }\n",
       "\n",
       "    .dataframe thead th {\n",
       "        text-align: right;\n",
       "    }\n",
       "</style>\n",
       "<table border=\"1\" class=\"dataframe\">\n",
       "  <thead>\n",
       "    <tr style=\"text-align: right;\">\n",
       "      <th></th>\n",
       "      <th>DATA</th>\n",
       "      <th>FECHAMENTO</th>\n",
       "    </tr>\n",
       "  </thead>\n",
       "  <tbody>\n",
       "    <tr>\n",
       "      <th>0</th>\n",
       "      <td>30/12/2021</td>\n",
       "      <td>3,05</td>\n",
       "    </tr>\n",
       "    <tr>\n",
       "      <th>1</th>\n",
       "      <td>29/12/2021</td>\n",
       "      <td>2,96</td>\n",
       "    </tr>\n",
       "    <tr>\n",
       "      <th>2</th>\n",
       "      <td>28/12/2021</td>\n",
       "      <td>2,91</td>\n",
       "    </tr>\n",
       "    <tr>\n",
       "      <th>3</th>\n",
       "      <td>27/12/2021</td>\n",
       "      <td>2,88</td>\n",
       "    </tr>\n",
       "    <tr>\n",
       "      <th>4</th>\n",
       "      <td>23/12/2021</td>\n",
       "      <td>2,79</td>\n",
       "    </tr>\n",
       "    <tr>\n",
       "      <th>...</th>\n",
       "      <td>...</td>\n",
       "      <td>...</td>\n",
       "    </tr>\n",
       "    <tr>\n",
       "      <th>491</th>\n",
       "      <td>08/01/2020</td>\n",
       "      <td>4,13</td>\n",
       "    </tr>\n",
       "    <tr>\n",
       "      <th>492</th>\n",
       "      <td>07/01/2020</td>\n",
       "      <td>4,24</td>\n",
       "    </tr>\n",
       "    <tr>\n",
       "      <th>493</th>\n",
       "      <td>06/01/2020</td>\n",
       "      <td>4,18</td>\n",
       "    </tr>\n",
       "    <tr>\n",
       "      <th>494</th>\n",
       "      <td>03/01/2020</td>\n",
       "      <td>4,24</td>\n",
       "    </tr>\n",
       "    <tr>\n",
       "      <th>495</th>\n",
       "      <td>02/01/2020</td>\n",
       "      <td>4,27</td>\n",
       "    </tr>\n",
       "  </tbody>\n",
       "</table>\n",
       "<p>496 rows × 2 columns</p>\n",
       "</div>"
      ],
      "text/plain": [
       "           DATA FECHAMENTO\n",
       "0    30/12/2021       3,05\n",
       "1    29/12/2021       2,96\n",
       "2    28/12/2021       2,91\n",
       "3    27/12/2021       2,88\n",
       "4    23/12/2021       2,79\n",
       "..          ...        ...\n",
       "491  08/01/2020       4,13\n",
       "492  07/01/2020       4,24\n",
       "493  06/01/2020       4,18\n",
       "494  03/01/2020       4,24\n",
       "495  02/01/2020       4,27\n",
       "\n",
       "[496 rows x 2 columns]"
      ]
     },
     "execution_count": 69,
     "metadata": {},
     "output_type": "execute_result"
    }
   ],
   "source": [
    "marcopolo = marcopolo.iloc[:,[0,2]]\n",
    "marcopolo"
   ]
  },
  {
   "cell_type": "code",
   "execution_count": 70,
   "id": "40a37250-8be0-410c-96c7-847c22951f8e",
   "metadata": {},
   "outputs": [],
   "source": [
    "marcopolof = marcopolo.FECHAMENTO.replace({',': '.'}, regex=True)"
   ]
  },
  {
   "cell_type": "code",
   "execution_count": 71,
   "id": "b5d5d451-0d93-468f-9492-b9954f435350",
   "metadata": {},
   "outputs": [
    {
     "data": {
      "text/plain": [
       "0      3.05\n",
       "1      2.96\n",
       "2      2.91\n",
       "3      2.88\n",
       "4      2.79\n",
       "       ... \n",
       "491    4.13\n",
       "492    4.24\n",
       "493    4.18\n",
       "494    4.24\n",
       "495    4.27\n",
       "Name: FECHAMENTO, Length: 496, dtype: object"
      ]
     },
     "execution_count": 71,
     "metadata": {},
     "output_type": "execute_result"
    }
   ],
   "source": [
    "marcopolof"
   ]
  },
  {
   "cell_type": "code",
   "execution_count": null,
   "id": "08198dad-c478-44ca-b5f3-b052ffaad5f4",
   "metadata": {},
   "outputs": [],
   "source": []
  },
  {
   "cell_type": "code",
   "execution_count": 72,
   "id": "cf18b0f5-bca6-4628-b661-3a689c6d2791",
   "metadata": {},
   "outputs": [
    {
     "name": "stderr",
     "output_type": "stream",
     "text": [
      "C:\\Users\\DELL\\anaconda3\\lib\\site-packages\\pandas\\core\\generic.py:5516: SettingWithCopyWarning: \n",
      "A value is trying to be set on a copy of a slice from a DataFrame.\n",
      "Try using .loc[row_indexer,col_indexer] = value instead\n",
      "\n",
      "See the caveats in the documentation: https://pandas.pydata.org/pandas-docs/stable/user_guide/indexing.html#returning-a-view-versus-a-copy\n",
      "  self[name] = value\n"
     ]
    },
    {
     "data": {
      "text/plain": [
       "DatetimeIndex(['2021-12-30', '2021-12-29', '2021-12-28', '2021-12-27',\n",
       "               '2021-12-23', '2021-12-22', '2021-12-21', '2021-12-20',\n",
       "               '2021-12-17', '2021-12-16',\n",
       "               ...\n",
       "               '2020-01-15', '2020-01-14', '2020-01-13', '2020-10-01',\n",
       "               '2020-09-01', '2020-08-01', '2020-07-01', '2020-06-01',\n",
       "               '2020-03-01', '2020-02-01'],\n",
       "              dtype='datetime64[ns]', name='DATA', length=496, freq=None)"
      ]
     },
     "execution_count": 72,
     "metadata": {},
     "output_type": "execute_result"
    }
   ],
   "source": [
    "Data = marcopolo.DATA = pd.DatetimeIndex(marcopolo.DATA)\n",
    "Data\n"
   ]
  },
  {
   "cell_type": "code",
   "execution_count": 73,
   "id": "6f4031a2-6159-46b2-870d-66cb8f158f35",
   "metadata": {},
   "outputs": [
    {
     "data": {
      "text/plain": [
       "DatetimeIndex(['2021-12-30', '2021-12-29', '2021-12-28', '2021-12-27',\n",
       "               '2021-12-23', '2021-12-22', '2021-12-21', '2021-12-20',\n",
       "               '2021-12-17', '2021-12-16',\n",
       "               ...\n",
       "               '2020-01-15', '2020-01-14', '2020-01-13', '2020-10-01',\n",
       "               '2020-09-01', '2020-08-01', '2020-07-01', '2020-06-01',\n",
       "               '2020-03-01', '2020-02-01'],\n",
       "              dtype='datetime64[ns]', name='DATA', length=496, freq=None)"
      ]
     },
     "execution_count": 73,
     "metadata": {},
     "output_type": "execute_result"
    }
   ],
   "source": [
    "Data"
   ]
  },
  {
   "cell_type": "code",
   "execution_count": 74,
   "id": "d7ff28bd-ecd9-4065-88dd-4503a71fea29",
   "metadata": {},
   "outputs": [
    {
     "name": "stderr",
     "output_type": "stream",
     "text": [
      "C:\\Users\\DELL\\AppData\\Local\\Temp/ipykernel_14256/2522869184.py:1: SettingWithCopyWarning: \n",
      "A value is trying to be set on a copy of a slice from a DataFrame.\n",
      "Try using .loc[row_indexer,col_indexer] = value instead\n",
      "\n",
      "See the caveats in the documentation: https://pandas.pydata.org/pandas-docs/stable/user_guide/indexing.html#returning-a-view-versus-a-copy\n",
      "  marcopolo['F'] = marcopolof\n"
     ]
    }
   ],
   "source": [
    "marcopolo['F'] = marcopolof"
   ]
  },
  {
   "cell_type": "code",
   "execution_count": 75,
   "id": "d3583b5f-661a-4f59-8e3a-8473f83120ea",
   "metadata": {},
   "outputs": [
    {
     "data": {
      "text/html": [
       "<div>\n",
       "<style scoped>\n",
       "    .dataframe tbody tr th:only-of-type {\n",
       "        vertical-align: middle;\n",
       "    }\n",
       "\n",
       "    .dataframe tbody tr th {\n",
       "        vertical-align: top;\n",
       "    }\n",
       "\n",
       "    .dataframe thead th {\n",
       "        text-align: right;\n",
       "    }\n",
       "</style>\n",
       "<table border=\"1\" class=\"dataframe\">\n",
       "  <thead>\n",
       "    <tr style=\"text-align: right;\">\n",
       "      <th></th>\n",
       "      <th>DATA</th>\n",
       "      <th>FECHAMENTO</th>\n",
       "      <th>F</th>\n",
       "    </tr>\n",
       "  </thead>\n",
       "  <tbody>\n",
       "    <tr>\n",
       "      <th>0</th>\n",
       "      <td>2021-12-30</td>\n",
       "      <td>3,05</td>\n",
       "      <td>3.05</td>\n",
       "    </tr>\n",
       "    <tr>\n",
       "      <th>1</th>\n",
       "      <td>2021-12-29</td>\n",
       "      <td>2,96</td>\n",
       "      <td>2.96</td>\n",
       "    </tr>\n",
       "    <tr>\n",
       "      <th>2</th>\n",
       "      <td>2021-12-28</td>\n",
       "      <td>2,91</td>\n",
       "      <td>2.91</td>\n",
       "    </tr>\n",
       "    <tr>\n",
       "      <th>3</th>\n",
       "      <td>2021-12-27</td>\n",
       "      <td>2,88</td>\n",
       "      <td>2.88</td>\n",
       "    </tr>\n",
       "    <tr>\n",
       "      <th>4</th>\n",
       "      <td>2021-12-23</td>\n",
       "      <td>2,79</td>\n",
       "      <td>2.79</td>\n",
       "    </tr>\n",
       "    <tr>\n",
       "      <th>...</th>\n",
       "      <td>...</td>\n",
       "      <td>...</td>\n",
       "      <td>...</td>\n",
       "    </tr>\n",
       "    <tr>\n",
       "      <th>491</th>\n",
       "      <td>2020-08-01</td>\n",
       "      <td>4,13</td>\n",
       "      <td>4.13</td>\n",
       "    </tr>\n",
       "    <tr>\n",
       "      <th>492</th>\n",
       "      <td>2020-07-01</td>\n",
       "      <td>4,24</td>\n",
       "      <td>4.24</td>\n",
       "    </tr>\n",
       "    <tr>\n",
       "      <th>493</th>\n",
       "      <td>2020-06-01</td>\n",
       "      <td>4,18</td>\n",
       "      <td>4.18</td>\n",
       "    </tr>\n",
       "    <tr>\n",
       "      <th>494</th>\n",
       "      <td>2020-03-01</td>\n",
       "      <td>4,24</td>\n",
       "      <td>4.24</td>\n",
       "    </tr>\n",
       "    <tr>\n",
       "      <th>495</th>\n",
       "      <td>2020-02-01</td>\n",
       "      <td>4,27</td>\n",
       "      <td>4.27</td>\n",
       "    </tr>\n",
       "  </tbody>\n",
       "</table>\n",
       "<p>496 rows × 3 columns</p>\n",
       "</div>"
      ],
      "text/plain": [
       "          DATA FECHAMENTO     F\n",
       "0   2021-12-30       3,05  3.05\n",
       "1   2021-12-29       2,96  2.96\n",
       "2   2021-12-28       2,91  2.91\n",
       "3   2021-12-27       2,88  2.88\n",
       "4   2021-12-23       2,79  2.79\n",
       "..         ...        ...   ...\n",
       "491 2020-08-01       4,13  4.13\n",
       "492 2020-07-01       4,24  4.24\n",
       "493 2020-06-01       4,18  4.18\n",
       "494 2020-03-01       4,24  4.24\n",
       "495 2020-02-01       4,27  4.27\n",
       "\n",
       "[496 rows x 3 columns]"
      ]
     },
     "execution_count": 75,
     "metadata": {},
     "output_type": "execute_result"
    }
   ],
   "source": [
    "marcopolo"
   ]
  },
  {
   "cell_type": "code",
   "execution_count": 76,
   "id": "fe3b7f68-a32d-4511-9acf-f8acdd3cf34c",
   "metadata": {},
   "outputs": [],
   "source": [
    "marcopolo = marcopolo.drop('FECHAMENTO', axis=1)"
   ]
  },
  {
   "cell_type": "code",
   "execution_count": 77,
   "id": "65dc8fc3-bb12-497c-9fd1-b3f220cb381c",
   "metadata": {},
   "outputs": [
    {
     "data": {
      "text/html": [
       "<div>\n",
       "<style scoped>\n",
       "    .dataframe tbody tr th:only-of-type {\n",
       "        vertical-align: middle;\n",
       "    }\n",
       "\n",
       "    .dataframe tbody tr th {\n",
       "        vertical-align: top;\n",
       "    }\n",
       "\n",
       "    .dataframe thead th {\n",
       "        text-align: right;\n",
       "    }\n",
       "</style>\n",
       "<table border=\"1\" class=\"dataframe\">\n",
       "  <thead>\n",
       "    <tr style=\"text-align: right;\">\n",
       "      <th></th>\n",
       "      <th>DATA</th>\n",
       "      <th>F</th>\n",
       "    </tr>\n",
       "  </thead>\n",
       "  <tbody>\n",
       "    <tr>\n",
       "      <th>0</th>\n",
       "      <td>2021-12-30</td>\n",
       "      <td>3.05</td>\n",
       "    </tr>\n",
       "    <tr>\n",
       "      <th>1</th>\n",
       "      <td>2021-12-29</td>\n",
       "      <td>2.96</td>\n",
       "    </tr>\n",
       "    <tr>\n",
       "      <th>2</th>\n",
       "      <td>2021-12-28</td>\n",
       "      <td>2.91</td>\n",
       "    </tr>\n",
       "    <tr>\n",
       "      <th>3</th>\n",
       "      <td>2021-12-27</td>\n",
       "      <td>2.88</td>\n",
       "    </tr>\n",
       "    <tr>\n",
       "      <th>4</th>\n",
       "      <td>2021-12-23</td>\n",
       "      <td>2.79</td>\n",
       "    </tr>\n",
       "    <tr>\n",
       "      <th>...</th>\n",
       "      <td>...</td>\n",
       "      <td>...</td>\n",
       "    </tr>\n",
       "    <tr>\n",
       "      <th>491</th>\n",
       "      <td>2020-08-01</td>\n",
       "      <td>4.13</td>\n",
       "    </tr>\n",
       "    <tr>\n",
       "      <th>492</th>\n",
       "      <td>2020-07-01</td>\n",
       "      <td>4.24</td>\n",
       "    </tr>\n",
       "    <tr>\n",
       "      <th>493</th>\n",
       "      <td>2020-06-01</td>\n",
       "      <td>4.18</td>\n",
       "    </tr>\n",
       "    <tr>\n",
       "      <th>494</th>\n",
       "      <td>2020-03-01</td>\n",
       "      <td>4.24</td>\n",
       "    </tr>\n",
       "    <tr>\n",
       "      <th>495</th>\n",
       "      <td>2020-02-01</td>\n",
       "      <td>4.27</td>\n",
       "    </tr>\n",
       "  </tbody>\n",
       "</table>\n",
       "<p>496 rows × 2 columns</p>\n",
       "</div>"
      ],
      "text/plain": [
       "          DATA     F\n",
       "0   2021-12-30  3.05\n",
       "1   2021-12-29  2.96\n",
       "2   2021-12-28  2.91\n",
       "3   2021-12-27  2.88\n",
       "4   2021-12-23  2.79\n",
       "..         ...   ...\n",
       "491 2020-08-01  4.13\n",
       "492 2020-07-01  4.24\n",
       "493 2020-06-01  4.18\n",
       "494 2020-03-01  4.24\n",
       "495 2020-02-01  4.27\n",
       "\n",
       "[496 rows x 2 columns]"
      ]
     },
     "execution_count": 77,
     "metadata": {},
     "output_type": "execute_result"
    }
   ],
   "source": [
    "marcopolo"
   ]
  },
  {
   "cell_type": "code",
   "execution_count": 78,
   "id": "0b39514c-8d2a-4430-8b53-33c28398b328",
   "metadata": {},
   "outputs": [],
   "source": [
    "marcopolo['F'] = pd.to_numeric(marcopolo.F)"
   ]
  },
  {
   "cell_type": "code",
   "execution_count": 79,
   "id": "8a761133-4b12-4759-804e-ea2a3bb38e80",
   "metadata": {},
   "outputs": [
    {
     "data": {
      "text/html": [
       "<div>\n",
       "<style scoped>\n",
       "    .dataframe tbody tr th:only-of-type {\n",
       "        vertical-align: middle;\n",
       "    }\n",
       "\n",
       "    .dataframe tbody tr th {\n",
       "        vertical-align: top;\n",
       "    }\n",
       "\n",
       "    .dataframe thead th {\n",
       "        text-align: right;\n",
       "    }\n",
       "</style>\n",
       "<table border=\"1\" class=\"dataframe\">\n",
       "  <thead>\n",
       "    <tr style=\"text-align: right;\">\n",
       "      <th></th>\n",
       "      <th>DATA</th>\n",
       "      <th>F</th>\n",
       "    </tr>\n",
       "  </thead>\n",
       "  <tbody>\n",
       "    <tr>\n",
       "      <th>0</th>\n",
       "      <td>2021-12-30</td>\n",
       "      <td>3.05</td>\n",
       "    </tr>\n",
       "    <tr>\n",
       "      <th>1</th>\n",
       "      <td>2021-12-29</td>\n",
       "      <td>2.96</td>\n",
       "    </tr>\n",
       "    <tr>\n",
       "      <th>2</th>\n",
       "      <td>2021-12-28</td>\n",
       "      <td>2.91</td>\n",
       "    </tr>\n",
       "    <tr>\n",
       "      <th>3</th>\n",
       "      <td>2021-12-27</td>\n",
       "      <td>2.88</td>\n",
       "    </tr>\n",
       "    <tr>\n",
       "      <th>4</th>\n",
       "      <td>2021-12-23</td>\n",
       "      <td>2.79</td>\n",
       "    </tr>\n",
       "    <tr>\n",
       "      <th>...</th>\n",
       "      <td>...</td>\n",
       "      <td>...</td>\n",
       "    </tr>\n",
       "    <tr>\n",
       "      <th>491</th>\n",
       "      <td>2020-08-01</td>\n",
       "      <td>4.13</td>\n",
       "    </tr>\n",
       "    <tr>\n",
       "      <th>492</th>\n",
       "      <td>2020-07-01</td>\n",
       "      <td>4.24</td>\n",
       "    </tr>\n",
       "    <tr>\n",
       "      <th>493</th>\n",
       "      <td>2020-06-01</td>\n",
       "      <td>4.18</td>\n",
       "    </tr>\n",
       "    <tr>\n",
       "      <th>494</th>\n",
       "      <td>2020-03-01</td>\n",
       "      <td>4.24</td>\n",
       "    </tr>\n",
       "    <tr>\n",
       "      <th>495</th>\n",
       "      <td>2020-02-01</td>\n",
       "      <td>4.27</td>\n",
       "    </tr>\n",
       "  </tbody>\n",
       "</table>\n",
       "<p>496 rows × 2 columns</p>\n",
       "</div>"
      ],
      "text/plain": [
       "          DATA     F\n",
       "0   2021-12-30  3.05\n",
       "1   2021-12-29  2.96\n",
       "2   2021-12-28  2.91\n",
       "3   2021-12-27  2.88\n",
       "4   2021-12-23  2.79\n",
       "..         ...   ...\n",
       "491 2020-08-01  4.13\n",
       "492 2020-07-01  4.24\n",
       "493 2020-06-01  4.18\n",
       "494 2020-03-01  4.24\n",
       "495 2020-02-01  4.27\n",
       "\n",
       "[496 rows x 2 columns]"
      ]
     },
     "execution_count": 79,
     "metadata": {},
     "output_type": "execute_result"
    }
   ],
   "source": [
    "marcopolo"
   ]
  },
  {
   "cell_type": "code",
   "execution_count": 80,
   "id": "45d65f95-af35-443f-ae87-088b6b52dfc7",
   "metadata": {},
   "outputs": [],
   "source": [
    "marcopolo['DATA'] = pd.to_datetime (marcopolo['DATA']). dt.date"
   ]
  },
  {
   "cell_type": "code",
   "execution_count": 86,
   "id": "ce3adaeb-fabb-4330-98cc-66bfc77866ec",
   "metadata": {},
   "outputs": [],
   "source": [
    "marcopolo['DATA'] = marcopolo['DATA'].astype('datetime64[ms]')"
   ]
  },
  {
   "cell_type": "code",
   "execution_count": 87,
   "id": "48dba38f-63b1-40bf-84df-3fa3dc55ddd0",
   "metadata": {},
   "outputs": [
    {
     "data": {
      "text/html": [
       "<div>\n",
       "<style scoped>\n",
       "    .dataframe tbody tr th:only-of-type {\n",
       "        vertical-align: middle;\n",
       "    }\n",
       "\n",
       "    .dataframe tbody tr th {\n",
       "        vertical-align: top;\n",
       "    }\n",
       "\n",
       "    .dataframe thead th {\n",
       "        text-align: right;\n",
       "    }\n",
       "</style>\n",
       "<table border=\"1\" class=\"dataframe\">\n",
       "  <thead>\n",
       "    <tr style=\"text-align: right;\">\n",
       "      <th></th>\n",
       "      <th>F</th>\n",
       "    </tr>\n",
       "  </thead>\n",
       "  <tbody>\n",
       "    <tr>\n",
       "      <th>count</th>\n",
       "      <td>496.000000</td>\n",
       "    </tr>\n",
       "    <tr>\n",
       "      <th>mean</th>\n",
       "      <td>2.926633</td>\n",
       "    </tr>\n",
       "    <tr>\n",
       "      <th>std</th>\n",
       "      <td>0.623808</td>\n",
       "    </tr>\n",
       "    <tr>\n",
       "      <th>min</th>\n",
       "      <td>2.060000</td>\n",
       "    </tr>\n",
       "    <tr>\n",
       "      <th>25%</th>\n",
       "      <td>2.620000</td>\n",
       "    </tr>\n",
       "    <tr>\n",
       "      <th>50%</th>\n",
       "      <td>2.740000</td>\n",
       "    </tr>\n",
       "    <tr>\n",
       "      <th>75%</th>\n",
       "      <td>2.890000</td>\n",
       "    </tr>\n",
       "    <tr>\n",
       "      <th>max</th>\n",
       "      <td>5.280000</td>\n",
       "    </tr>\n",
       "  </tbody>\n",
       "</table>\n",
       "</div>"
      ],
      "text/plain": [
       "                F\n",
       "count  496.000000\n",
       "mean     2.926633\n",
       "std      0.623808\n",
       "min      2.060000\n",
       "25%      2.620000\n",
       "50%      2.740000\n",
       "75%      2.890000\n",
       "max      5.280000"
      ]
     },
     "execution_count": 87,
     "metadata": {},
     "output_type": "execute_result"
    }
   ],
   "source": [
    "marcopolo.describe()"
   ]
  },
  {
   "cell_type": "code",
   "execution_count": 98,
   "id": "ff10b41c-88f8-48a4-97d8-8ab4b1c124d0",
   "metadata": {},
   "outputs": [],
   "source": [
    "marcopolo = marcopolo.set_index('DATA')"
   ]
  },
  {
   "cell_type": "code",
   "execution_count": 88,
   "id": "3ccddde0-da01-4ffc-9a39-d749cbc83043",
   "metadata": {},
   "outputs": [],
   "source": [
    "marcopolom = marcopolo.resample('M', on= 'DATA').mean()"
   ]
  },
  {
   "cell_type": "code",
   "execution_count": 89,
   "id": "d2423481-20a4-45e6-a990-629e2a795c5e",
   "metadata": {},
   "outputs": [
    {
     "data": {
      "text/html": [
       "<div>\n",
       "<style scoped>\n",
       "    .dataframe tbody tr th:only-of-type {\n",
       "        vertical-align: middle;\n",
       "    }\n",
       "\n",
       "    .dataframe tbody tr th {\n",
       "        vertical-align: top;\n",
       "    }\n",
       "\n",
       "    .dataframe thead th {\n",
       "        text-align: right;\n",
       "    }\n",
       "</style>\n",
       "<table border=\"1\" class=\"dataframe\">\n",
       "  <thead>\n",
       "    <tr style=\"text-align: right;\">\n",
       "      <th></th>\n",
       "      <th>F</th>\n",
       "    </tr>\n",
       "    <tr>\n",
       "      <th>DATA</th>\n",
       "      <th></th>\n",
       "    </tr>\n",
       "  </thead>\n",
       "  <tbody>\n",
       "    <tr>\n",
       "      <th>2020-01-31</th>\n",
       "      <td>4.065238</td>\n",
       "    </tr>\n",
       "    <tr>\n",
       "      <th>2020-02-29</th>\n",
       "      <td>4.203889</td>\n",
       "    </tr>\n",
       "    <tr>\n",
       "      <th>2020-03-31</th>\n",
       "      <td>2.820870</td>\n",
       "    </tr>\n",
       "    <tr>\n",
       "      <th>2020-04-30</th>\n",
       "      <td>2.978571</td>\n",
       "    </tr>\n",
       "    <tr>\n",
       "      <th>2020-05-31</th>\n",
       "      <td>2.768000</td>\n",
       "    </tr>\n",
       "    <tr>\n",
       "      <th>2020-06-30</th>\n",
       "      <td>3.016190</td>\n",
       "    </tr>\n",
       "    <tr>\n",
       "      <th>2020-07-31</th>\n",
       "      <td>2.927391</td>\n",
       "    </tr>\n",
       "    <tr>\n",
       "      <th>2020-08-31</th>\n",
       "      <td>2.798095</td>\n",
       "    </tr>\n",
       "    <tr>\n",
       "      <th>2020-09-30</th>\n",
       "      <td>2.848636</td>\n",
       "    </tr>\n",
       "    <tr>\n",
       "      <th>2020-10-31</th>\n",
       "      <td>2.877391</td>\n",
       "    </tr>\n",
       "    <tr>\n",
       "      <th>2020-11-30</th>\n",
       "      <td>2.855263</td>\n",
       "    </tr>\n",
       "    <tr>\n",
       "      <th>2020-12-31</th>\n",
       "      <td>2.890000</td>\n",
       "    </tr>\n",
       "    <tr>\n",
       "      <th>2021-01-31</th>\n",
       "      <td>2.860952</td>\n",
       "    </tr>\n",
       "    <tr>\n",
       "      <th>2021-02-28</th>\n",
       "      <td>2.674667</td>\n",
       "    </tr>\n",
       "    <tr>\n",
       "      <th>2021-03-31</th>\n",
       "      <td>2.675500</td>\n",
       "    </tr>\n",
       "    <tr>\n",
       "      <th>2021-04-30</th>\n",
       "      <td>2.648095</td>\n",
       "    </tr>\n",
       "    <tr>\n",
       "      <th>2021-05-31</th>\n",
       "      <td>2.732273</td>\n",
       "    </tr>\n",
       "    <tr>\n",
       "      <th>2021-06-30</th>\n",
       "      <td>3.074762</td>\n",
       "    </tr>\n",
       "    <tr>\n",
       "      <th>2021-07-31</th>\n",
       "      <td>3.014286</td>\n",
       "    </tr>\n",
       "    <tr>\n",
       "      <th>2021-08-31</th>\n",
       "      <td>2.736522</td>\n",
       "    </tr>\n",
       "    <tr>\n",
       "      <th>2021-09-30</th>\n",
       "      <td>2.677727</td>\n",
       "    </tr>\n",
       "    <tr>\n",
       "      <th>2021-10-31</th>\n",
       "      <td>2.699048</td>\n",
       "    </tr>\n",
       "    <tr>\n",
       "      <th>2021-11-30</th>\n",
       "      <td>2.706842</td>\n",
       "    </tr>\n",
       "    <tr>\n",
       "      <th>2021-12-31</th>\n",
       "      <td>2.802857</td>\n",
       "    </tr>\n",
       "  </tbody>\n",
       "</table>\n",
       "</div>"
      ],
      "text/plain": [
       "                   F\n",
       "DATA                \n",
       "2020-01-31  4.065238\n",
       "2020-02-29  4.203889\n",
       "2020-03-31  2.820870\n",
       "2020-04-30  2.978571\n",
       "2020-05-31  2.768000\n",
       "2020-06-30  3.016190\n",
       "2020-07-31  2.927391\n",
       "2020-08-31  2.798095\n",
       "2020-09-30  2.848636\n",
       "2020-10-31  2.877391\n",
       "2020-11-30  2.855263\n",
       "2020-12-31  2.890000\n",
       "2021-01-31  2.860952\n",
       "2021-02-28  2.674667\n",
       "2021-03-31  2.675500\n",
       "2021-04-30  2.648095\n",
       "2021-05-31  2.732273\n",
       "2021-06-30  3.074762\n",
       "2021-07-31  3.014286\n",
       "2021-08-31  2.736522\n",
       "2021-09-30  2.677727\n",
       "2021-10-31  2.699048\n",
       "2021-11-30  2.706842\n",
       "2021-12-31  2.802857"
      ]
     },
     "execution_count": 89,
     "metadata": {},
     "output_type": "execute_result"
    }
   ],
   "source": [
    "marcopolom"
   ]
  },
  {
   "cell_type": "code",
   "execution_count": 90,
   "id": "ddaa2e5b-0bbd-482a-89c1-c169a31acf4e",
   "metadata": {},
   "outputs": [
    {
     "data": {
      "image/png": "[encoded data removed]",
      "text/plain": [
       "<Figure size 432x288 with 1 Axes>"
      ]
     },
     "metadata": {
      "needs_background": "light"
     },
     "output_type": "display_data"
    }
   ],
   "source": [
    "marcopolom.plot();"
   ]
  },
  {
   "cell_type": "code",
   "execution_count": 101,
   "id": "85a8c344-0693-409a-994a-be17e3e393e5",
   "metadata": {},
   "outputs": [
    {
     "data": {
      "text/plain": [
       "<AxesSubplot:xlabel='DATA'>"
      ]
     },
     "execution_count": 101,
     "metadata": {},
     "output_type": "execute_result"
    },
    {
     "data": {
      "image/png": "[encoded data removed]",
      "text/plain": [
       "<Figure size 432x288 with 1 Axes>"
      ]
     },
     "metadata": {
      "needs_background": "light"
     },
     "output_type": "display_data"
    }
   ],
   "source": [
    "marcopolo.plot()\n"
   ]
  },
  {
   "cell_type": "code",
   "execution_count": 117,
   "id": "6015d3d7-9d32-49b8-8bc4-1a3f8c2dbc92",
   "metadata": {},
   "outputs": [
    {
     "data": {
      "image/png": "[encoded data removed]",
      "text/plain": [
       "<Figure size 432x288 with 1 Axes>"
      ]
     },
     "metadata": {
      "needs_background": "light"
     },
     "output_type": "display_data"
    }
   ],
   "source": [
    "Marcopolo.plot()\n",
    "plt.plot(marcopolom, color='red', label = 'média mensal')\n",
    "plt.xticks(rotation=90)\n",
    "plt.legend(loc='best');"
   ]
  },
  {
   "cell_type": "code",
   "execution_count": 110,
   "id": "a31e1233-0774-4cea-bf52-401ee0d22c78",
   "metadata": {},
   "outputs": [],
   "source": [
    "Marcopolo = pd.Series(marcopolo['F'].values, index=marcopolo.index)"
   ]
  },
  {
   "cell_type": "code",
   "execution_count": 114,
   "id": "16c9b241-9971-4028-8d52-8652760c66a5",
   "metadata": {},
   "outputs": [],
   "source": [
    "media_movel1 = Marcopolo.rolling(window=6)"
   ]
  },
  {
   "cell_type": "code",
   "execution_count": 115,
   "id": "c43040d2-3725-4c6d-8afe-c2b718ccbf09",
   "metadata": {},
   "outputs": [],
   "source": [
    "media_movel1 = media_movel1.mean()"
   ]
  },
  {
   "cell_type": "code",
   "execution_count": 120,
   "id": "7eb1306f-96b6-4a4f-a583-79f5ad998a79",
   "metadata": {},
   "outputs": [
    {
     "data": {
      "image/png": "[encoded data removed]",
      "text/plain": [
       "<Figure size 432x288 with 1 Axes>"
      ]
     },
     "metadata": {
      "needs_background": "light"
     },
     "output_type": "display_data"
    }
   ],
   "source": [
    "plt.plot(media_movel1);"
   ]
  },
  {
   "cell_type": "code",
   "execution_count": null,
   "id": "a2b99cee-6b99-465b-92e6-e2b3887aa90e",
   "metadata": {},
   "outputs": [],
   "source": []
  }
 ],
 "metadata": {
  "kernelspec": {
   "display_name": "Python 3 (ipykernel)",
   "language": "python",
   "name": "python3"
  },
  "language_info": {
   "codemirror_mode": {
    "name": "ipython",
    "version": 3
   },
   "file_extension": ".py",
   "mimetype": "text/x-python",
   "name": "python",
   "nbconvert_exporter": "python",
   "pygments_lexer": "ipython3",
   "version": "3.9.7"
  }
 },
 "nbformat": 4,
 "nbformat_minor": 5
}
